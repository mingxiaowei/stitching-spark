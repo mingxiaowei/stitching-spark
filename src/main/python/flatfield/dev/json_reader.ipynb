{
 "cells": [
  {
   "cell_type": "code",
   "execution_count": 2,
   "metadata": {},
   "outputs": [],
   "source": [
    "import numpy as np\n",
    "import json\n",
    "import os\n",
    "import zarr"
   ]
  },
  {
   "cell_type": "code",
   "execution_count": 8,
   "metadata": {},
   "outputs": [],
   "source": [
    "json_path = '/data/sternsonlab/Zhenggang/2acq/outputs/M28C_LHA_S1/stitching/c0-n5.json'\n",
    "with open(json_path, 'r') as file:\n",
    "    data = json.load(file)"
   ]
  },
  {
   "cell_type": "code",
   "execution_count": 9,
   "metadata": {},
   "outputs": [
    {
     "data": {
      "text/plain": [
       "(dict, list)"
      ]
     },
     "execution_count": 9,
     "metadata": {},
     "output_type": "execute_result"
    }
   ],
   "source": [
    "type(data[0]), type(data)"
   ]
  },
  {
   "cell_type": "code",
   "execution_count": 10,
   "metadata": {},
   "outputs": [
    {
     "data": {
      "text/plain": [
       "[{'type': 'GRAY16',\n",
       "  'index': 0,\n",
       "  'file': '/data/sternsonlab/Zhenggang/2acq/outputs/M28C_LHA_S1/stitching/tiles.n5/c0/c0_M28C_LHA_S1.czi_tile0',\n",
       "  'position': [76.53478260869477, 39508.88695652174, -1516.0428571428574],\n",
       "  'size': [1920, 1920, 1687],\n",
       "  'pixelResolution': [0.23, 0.23, 0.42]},\n",
       " {'type': 'GRAY16',\n",
       "  'index': 1,\n",
       "  'file': '/data/sternsonlab/Zhenggang/2acq/outputs/M28C_LHA_S1/stitching/tiles.n5/c0/c0_M28C_LHA_S1.czi_tile1',\n",
       "  'position': [1862.5347826086954, 39508.88695652174, -1516.0428571428574],\n",
       "  'size': [1920, 1920, 1687],\n",
       "  'pixelResolution': [0.23, 0.23, 0.42]},\n",
       " {'type': 'GRAY16',\n",
       "  'index': 2,\n",
       "  'file': '/data/sternsonlab/Zhenggang/2acq/outputs/M28C_LHA_S1/stitching/tiles.n5/c0/c0_M28C_LHA_S1.czi_tile2',\n",
       "  'position': [3648.5347826086954, 39508.88695652174, -1516.0428571428574],\n",
       "  'size': [1920, 1920, 1687],\n",
       "  'pixelResolution': [0.23, 0.23, 0.42]},\n",
       " {'type': 'GRAY16',\n",
       "  'index': 3,\n",
       "  'file': '/data/sternsonlab/Zhenggang/2acq/outputs/M28C_LHA_S1/stitching/tiles.n5/c0/c0_M28C_LHA_S1.czi_tile3',\n",
       "  'position': [5434.534782608695, 39508.88695652174, -1516.0428571428574],\n",
       "  'size': [1920, 1920, 1687],\n",
       "  'pixelResolution': [0.23, 0.23, 0.42]},\n",
       " {'type': 'GRAY16',\n",
       "  'index': 4,\n",
       "  'file': '/data/sternsonlab/Zhenggang/2acq/outputs/M28C_LHA_S1/stitching/tiles.n5/c0/c0_M28C_LHA_S1.czi_tile4',\n",
       "  'position': [5434.534782608695, 41294.88695652174, -1516.0428571428574],\n",
       "  'size': [1920, 1920, 1687],\n",
       "  'pixelResolution': [0.23, 0.23, 0.42]},\n",
       " {'type': 'GRAY16',\n",
       "  'index': 5,\n",
       "  'file': '/data/sternsonlab/Zhenggang/2acq/outputs/M28C_LHA_S1/stitching/tiles.n5/c0/c0_M28C_LHA_S1.czi_tile5',\n",
       "  'position': [3648.5347826086954, 41294.88695652174, -1516.0428571428574],\n",
       "  'size': [1920, 1920, 1687],\n",
       "  'pixelResolution': [0.23, 0.23, 0.42]},\n",
       " {'type': 'GRAY16',\n",
       "  'index': 6,\n",
       "  'file': '/data/sternsonlab/Zhenggang/2acq/outputs/M28C_LHA_S1/stitching/tiles.n5/c0/c0_M28C_LHA_S1.czi_tile6',\n",
       "  'position': [1862.5347826086954, 41294.88695652174, -1516.0428571428574],\n",
       "  'size': [1920, 1920, 1687],\n",
       "  'pixelResolution': [0.23, 0.23, 0.42]},\n",
       " {'type': 'GRAY16',\n",
       "  'index': 7,\n",
       "  'file': '/data/sternsonlab/Zhenggang/2acq/outputs/M28C_LHA_S1/stitching/tiles.n5/c0/c0_M28C_LHA_S1.czi_tile7',\n",
       "  'position': [76.53478260869477, 41294.88695652174, -1516.0428571428574],\n",
       "  'size': [1920, 1920, 1687],\n",
       "  'pixelResolution': [0.23, 0.23, 0.42]},\n",
       " {'type': 'GRAY16',\n",
       "  'index': 8,\n",
       "  'file': '/data/sternsonlab/Zhenggang/2acq/outputs/M28C_LHA_S1/stitching/tiles.n5/c0/c0_M28C_LHA_S1.czi_tile8',\n",
       "  'position': [76.53478260869477, 43080.88695652173, -1516.0428571428574],\n",
       "  'size': [1920, 1920, 1687],\n",
       "  'pixelResolution': [0.23, 0.23, 0.42]},\n",
       " {'type': 'GRAY16',\n",
       "  'index': 9,\n",
       "  'file': '/data/sternsonlab/Zhenggang/2acq/outputs/M28C_LHA_S1/stitching/tiles.n5/c0/c0_M28C_LHA_S1.czi_tile9',\n",
       "  'position': [1862.5347826086954, 43080.88695652173, -1516.0428571428574],\n",
       "  'size': [1920, 1920, 1687],\n",
       "  'pixelResolution': [0.23, 0.23, 0.42]},\n",
       " {'type': 'GRAY16',\n",
       "  'index': 10,\n",
       "  'file': '/data/sternsonlab/Zhenggang/2acq/outputs/M28C_LHA_S1/stitching/tiles.n5/c0/c0_M28C_LHA_S1.czi_tile10',\n",
       "  'position': [3648.5347826086954, 43080.88695652173, -1516.0428571428574],\n",
       "  'size': [1920, 1920, 1687],\n",
       "  'pixelResolution': [0.23, 0.23, 0.42]},\n",
       " {'type': 'GRAY16',\n",
       "  'index': 11,\n",
       "  'file': '/data/sternsonlab/Zhenggang/2acq/outputs/M28C_LHA_S1/stitching/tiles.n5/c0/c0_M28C_LHA_S1.czi_tile11',\n",
       "  'position': [5434.534782608695, 43080.88695652173, -1516.0428571428574],\n",
       "  'size': [1920, 1920, 1687],\n",
       "  'pixelResolution': [0.23, 0.23, 0.42]},\n",
       " {'type': 'GRAY16',\n",
       "  'index': 12,\n",
       "  'file': '/data/sternsonlab/Zhenggang/2acq/outputs/M28C_LHA_S1/stitching/tiles.n5/c0/c0_M28C_LHA_S1.czi_tile12',\n",
       "  'position': [5434.534782608695, 44866.88695652174, -1516.0428571428574],\n",
       "  'size': [1920, 1920, 1687],\n",
       "  'pixelResolution': [0.23, 0.23, 0.42]},\n",
       " {'type': 'GRAY16',\n",
       "  'index': 13,\n",
       "  'file': '/data/sternsonlab/Zhenggang/2acq/outputs/M28C_LHA_S1/stitching/tiles.n5/c0/c0_M28C_LHA_S1.czi_tile13',\n",
       "  'position': [3648.5347826086954, 44866.88695652174, -1516.0428571428574],\n",
       "  'size': [1920, 1920, 1687],\n",
       "  'pixelResolution': [0.23, 0.23, 0.42]},\n",
       " {'type': 'GRAY16',\n",
       "  'index': 14,\n",
       "  'file': '/data/sternsonlab/Zhenggang/2acq/outputs/M28C_LHA_S1/stitching/tiles.n5/c0/c0_M28C_LHA_S1.czi_tile14',\n",
       "  'position': [1862.5347826086954, 44866.88695652174, -1516.0428571428574],\n",
       "  'size': [1920, 1920, 1687],\n",
       "  'pixelResolution': [0.23, 0.23, 0.42]},\n",
       " {'type': 'GRAY16',\n",
       "  'index': 15,\n",
       "  'file': '/data/sternsonlab/Zhenggang/2acq/outputs/M28C_LHA_S1/stitching/tiles.n5/c0/c0_M28C_LHA_S1.czi_tile15',\n",
       "  'position': [76.53478260869477, 44866.88695652174, -1516.0428571428574],\n",
       "  'size': [1920, 1920, 1687],\n",
       "  'pixelResolution': [0.23, 0.23, 0.42]},\n",
       " {'type': 'GRAY16',\n",
       "  'index': 16,\n",
       "  'file': '/data/sternsonlab/Zhenggang/2acq/outputs/M28C_LHA_S1/stitching/tiles.n5/c0/c0_M28C_LHA_S1.czi_tile16',\n",
       "  'position': [76.53478260869477, 46652.88695652174, -1516.0428571428574],\n",
       "  'size': [1920, 1920, 1687],\n",
       "  'pixelResolution': [0.23, 0.23, 0.42]},\n",
       " {'type': 'GRAY16',\n",
       "  'index': 17,\n",
       "  'file': '/data/sternsonlab/Zhenggang/2acq/outputs/M28C_LHA_S1/stitching/tiles.n5/c0/c0_M28C_LHA_S1.czi_tile17',\n",
       "  'position': [1862.5347826086954, 46652.88695652174, -1516.0428571428574],\n",
       "  'size': [1920, 1920, 1687],\n",
       "  'pixelResolution': [0.23, 0.23, 0.42]},\n",
       " {'type': 'GRAY16',\n",
       "  'index': 18,\n",
       "  'file': '/data/sternsonlab/Zhenggang/2acq/outputs/M28C_LHA_S1/stitching/tiles.n5/c0/c0_M28C_LHA_S1.czi_tile18',\n",
       "  'position': [3648.5347826086954, 46652.88695652174, -1516.0428571428574],\n",
       "  'size': [1920, 1920, 1687],\n",
       "  'pixelResolution': [0.23, 0.23, 0.42]},\n",
       " {'type': 'GRAY16',\n",
       "  'index': 19,\n",
       "  'file': '/data/sternsonlab/Zhenggang/2acq/outputs/M28C_LHA_S1/stitching/tiles.n5/c0/c0_M28C_LHA_S1.czi_tile19',\n",
       "  'position': [5434.534782608695, 46652.88695652174, -1516.0428571428574],\n",
       "  'size': [1920, 1920, 1687],\n",
       "  'pixelResolution': [0.23, 0.23, 0.42]}]"
      ]
     },
     "execution_count": 10,
     "metadata": {},
     "output_type": "execute_result"
    }
   ],
   "source": [
    "data"
   ]
  },
  {
   "cell_type": "code",
   "execution_count": 11,
   "metadata": {},
   "outputs": [
    {
     "data": {
      "text/plain": [
       "'/data/sternsonlab/Zhenggang/2acq/outputs/M28C_LHA_S1/stitching'"
      ]
     },
     "execution_count": 11,
     "metadata": {},
     "output_type": "execute_result"
    }
   ],
   "source": [
    "os.path.dirname(json_path)"
   ]
  },
  {
   "cell_type": "code",
   "execution_count": 12,
   "metadata": {},
   "outputs": [
    {
     "name": "stdout",
     "output_type": "stream",
     "text": [
      "/data/sternsonlab/Zhenggang/2acq/outputs/M28C_LHA_S1/stitching/tiles.n5/c0/c0_M28C_LHA_S1.czi_tile0\n",
      "c0_M28C_LHA_S1.czi_tile0\n"
     ]
    }
   ],
   "source": [
    "file0 = data[0]['file']\n",
    "print(file0)\n",
    "print(os.path.basename(file0))"
   ]
  },
  {
   "cell_type": "code",
   "execution_count": 13,
   "metadata": {},
   "outputs": [
    {
     "name": "stdout",
     "output_type": "stream",
     "text": [
      "c0\n"
     ]
    }
   ],
   "source": [
    "parent_folder = os.path.basename(os.path.dirname(file0))\n",
    "print(parent_folder)"
   ]
  },
  {
   "cell_type": "code",
   "execution_count": 18,
   "metadata": {},
   "outputs": [
    {
     "name": "stderr",
     "output_type": "stream",
     "text": [
      "/home/m5wei/conda/lib/python3.9/site-packages/zarr/storage.py:179: FutureWarning: The N5Store is deprecated and will be removed in a Zarr-Python version 3, see https://github.com/zarr-developers/zarr-python/issues/1274 for more information.\n",
      "  return N5Store(store)\n"
     ]
    }
   ],
   "source": [
    "zarr_path = os.path.join(file0, '../../')\n",
    "zarr_path = '/data/sternsonlab/Zhenggang/2acq/outputs/M28C_LHA_S1/stitching/tiles.n5'\n",
    "zarr_data = zarr.convenience.open(zarr_path, mode='r')"
   ]
  },
  {
   "cell_type": "code",
   "execution_count": 21,
   "metadata": {},
   "outputs": [],
   "source": [
    "basepath, subpath = file0.split('.n5')"
   ]
  },
  {
   "cell_type": "code",
   "execution_count": 22,
   "metadata": {},
   "outputs": [
    {
     "data": {
      "text/plain": [
       "('/data/sternsonlab/Zhenggang/2acq/outputs/M28C_LHA_S1/stitching/tiles',\n",
       " '/c0/c0_M28C_LHA_S1.czi_tile0')"
      ]
     },
     "execution_count": 22,
     "metadata": {},
     "output_type": "execute_result"
    }
   ],
   "source": [
    "basepath, subpath"
   ]
  },
  {
   "cell_type": "code",
   "execution_count": 23,
   "metadata": {},
   "outputs": [
    {
     "name": "stderr",
     "output_type": "stream",
     "text": [
      "/home/m5wei/conda/lib/python3.9/site-packages/zarr/storage.py:179: FutureWarning: The N5Store is deprecated and will be removed in a Zarr-Python version 3, see https://github.com/zarr-developers/zarr-python/issues/1274 for more information.\n",
      "  return N5Store(store)\n"
     ]
    }
   ],
   "source": [
    "zarr_data = zarr.convenience.open(basepath + '.n5', mode='r')"
   ]
  },
  {
   "cell_type": "code",
   "execution_count": null,
   "metadata": {},
   "outputs": [],
   "source": [
    "zarr_data[subpath][...].shape"
   ]
  },
  {
   "cell_type": "code",
   "execution_count": 32,
   "metadata": {},
   "outputs": [
    {
     "name": "stdout",
     "output_type": "stream",
     "text": [
      "(3, 2, 2)\n"
     ]
    },
    {
     "data": {
      "text/plain": [
       "array([[[1, 2],\n",
       "        [3, 1]],\n",
       "\n",
       "       [[2, 3],\n",
       "        [1, 2]],\n",
       "\n",
       "       [[3, 1],\n",
       "        [2, 3]]])"
      ]
     },
     "execution_count": 32,
     "metadata": {},
     "output_type": "execute_result"
    }
   ],
   "source": [
    "arr_1d = np.array([1, 2, 3])\n",
    "# arr_3d = np.tile(arr_1d, (2, 2, 1))a\n",
    "arr_3d = np.stack([arr_1d] * 4, axis=0).reshape(3, 2, 2)\n",
    "print(arr_3d.shape)\n",
    "arr_3d"
   ]
  },
  {
   "cell_type": "code",
   "execution_count": 36,
   "metadata": {},
   "outputs": [
    {
     "data": {
      "text/plain": [
       "array([1, 2, 3])"
      ]
     },
     "execution_count": 36,
     "metadata": {},
     "output_type": "execute_result"
    }
   ],
   "source": [
    "arr_3d[:, 1, 1]"
   ]
  },
  {
   "cell_type": "code",
   "execution_count": 37,
   "metadata": {},
   "outputs": [
    {
     "name": "stdout",
     "output_type": "stream",
     "text": [
      "(3, 2, 2)\n"
     ]
    },
    {
     "data": {
      "text/plain": [
       "array([[[1, 2],\n",
       "        [3, 4]],\n",
       "\n",
       "       [[1, 2],\n",
       "        [3, 4]],\n",
       "\n",
       "       [[1, 2],\n",
       "        [3, 4]]])"
      ]
     },
     "execution_count": 37,
     "metadata": {},
     "output_type": "execute_result"
    }
   ],
   "source": [
    "arr_2d = np.array([[1, 2], [3, 4]])\n",
    "arr_3d2 = np.stack([arr_2d] * 3, axis=0)\n",
    "print(arr_3d2.shape)\n",
    "arr_3d2"
   ]
  },
  {
   "cell_type": "code",
   "execution_count": null,
   "metadata": {},
   "outputs": [],
   "source": []
  }
 ],
 "metadata": {
  "kernelspec": {
   "display_name": "base",
   "language": "python",
   "name": "python3"
  },
  "language_info": {
   "codemirror_mode": {
    "name": "ipython",
    "version": 3
   },
   "file_extension": ".py",
   "mimetype": "text/x-python",
   "name": "python",
   "nbconvert_exporter": "python",
   "pygments_lexer": "ipython3",
   "version": "3.9.20"
  }
 },
 "nbformat": 4,
 "nbformat_minor": 2
}
