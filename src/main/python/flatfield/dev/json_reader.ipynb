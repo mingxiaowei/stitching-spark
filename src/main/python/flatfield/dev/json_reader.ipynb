{
 "cells": [
  {
   "cell_type": "code",
   "execution_count": 13,
   "metadata": {},
   "outputs": [],
   "source": [
    "import numpy as np\n",
    "import json\n",
    "import os"
   ]
  },
  {
   "cell_type": "code",
   "execution_count": 7,
   "metadata": {},
   "outputs": [],
   "source": [
    "json_path = '/Volumes/data/sternsonlab/Zhenggang/2acq/outputs/M28C_LHA_S1/stitching/c0-n5.json'\n",
    "with open(json_path, 'r') as file:\n",
    "    data = json.load(file)"
   ]
  },
  {
   "cell_type": "code",
   "execution_count": 11,
   "metadata": {},
   "outputs": [
    {
     "data": {
      "text/plain": [
       "(dict, list)"
      ]
     },
     "execution_count": 11,
     "metadata": {},
     "output_type": "execute_result"
    }
   ],
   "source": [
    "type(data[0]), type(data)"
   ]
  },
  {
   "cell_type": "code",
   "execution_count": 12,
   "metadata": {},
   "outputs": [
    {
     "data": {
      "text/plain": [
       "[{'type': 'GRAY16',\n",
       "  'index': 0,\n",
       "  'file': '/data/sternsonlab/Zhenggang/2acq/outputs/M28C_LHA_S1/stitching/tiles.n5/c0/c0_M28C_LHA_S1.czi_tile0',\n",
       "  'position': [76.53478260869477, 39508.88695652174, -1516.0428571428574],\n",
       "  'size': [1920, 1920, 1687],\n",
       "  'pixelResolution': [0.23, 0.23, 0.42]},\n",
       " {'type': 'GRAY16',\n",
       "  'index': 1,\n",
       "  'file': '/data/sternsonlab/Zhenggang/2acq/outputs/M28C_LHA_S1/stitching/tiles.n5/c0/c0_M28C_LHA_S1.czi_tile1',\n",
       "  'position': [1862.5347826086954, 39508.88695652174, -1516.0428571428574],\n",
       "  'size': [1920, 1920, 1687],\n",
       "  'pixelResolution': [0.23, 0.23, 0.42]},\n",
       " {'type': 'GRAY16',\n",
       "  'index': 2,\n",
       "  'file': '/data/sternsonlab/Zhenggang/2acq/outputs/M28C_LHA_S1/stitching/tiles.n5/c0/c0_M28C_LHA_S1.czi_tile2',\n",
       "  'position': [3648.5347826086954, 39508.88695652174, -1516.0428571428574],\n",
       "  'size': [1920, 1920, 1687],\n",
       "  'pixelResolution': [0.23, 0.23, 0.42]},\n",
       " {'type': 'GRAY16',\n",
       "  'index': 3,\n",
       "  'file': '/data/sternsonlab/Zhenggang/2acq/outputs/M28C_LHA_S1/stitching/tiles.n5/c0/c0_M28C_LHA_S1.czi_tile3',\n",
       "  'position': [5434.534782608695, 39508.88695652174, -1516.0428571428574],\n",
       "  'size': [1920, 1920, 1687],\n",
       "  'pixelResolution': [0.23, 0.23, 0.42]},\n",
       " {'type': 'GRAY16',\n",
       "  'index': 4,\n",
       "  'file': '/data/sternsonlab/Zhenggang/2acq/outputs/M28C_LHA_S1/stitching/tiles.n5/c0/c0_M28C_LHA_S1.czi_tile4',\n",
       "  'position': [5434.534782608695, 41294.88695652174, -1516.0428571428574],\n",
       "  'size': [1920, 1920, 1687],\n",
       "  'pixelResolution': [0.23, 0.23, 0.42]},\n",
       " {'type': 'GRAY16',\n",
       "  'index': 5,\n",
       "  'file': '/data/sternsonlab/Zhenggang/2acq/outputs/M28C_LHA_S1/stitching/tiles.n5/c0/c0_M28C_LHA_S1.czi_tile5',\n",
       "  'position': [3648.5347826086954, 41294.88695652174, -1516.0428571428574],\n",
       "  'size': [1920, 1920, 1687],\n",
       "  'pixelResolution': [0.23, 0.23, 0.42]},\n",
       " {'type': 'GRAY16',\n",
       "  'index': 6,\n",
       "  'file': '/data/sternsonlab/Zhenggang/2acq/outputs/M28C_LHA_S1/stitching/tiles.n5/c0/c0_M28C_LHA_S1.czi_tile6',\n",
       "  'position': [1862.5347826086954, 41294.88695652174, -1516.0428571428574],\n",
       "  'size': [1920, 1920, 1687],\n",
       "  'pixelResolution': [0.23, 0.23, 0.42]},\n",
       " {'type': 'GRAY16',\n",
       "  'index': 7,\n",
       "  'file': '/data/sternsonlab/Zhenggang/2acq/outputs/M28C_LHA_S1/stitching/tiles.n5/c0/c0_M28C_LHA_S1.czi_tile7',\n",
       "  'position': [76.53478260869477, 41294.88695652174, -1516.0428571428574],\n",
       "  'size': [1920, 1920, 1687],\n",
       "  'pixelResolution': [0.23, 0.23, 0.42]},\n",
       " {'type': 'GRAY16',\n",
       "  'index': 8,\n",
       "  'file': '/data/sternsonlab/Zhenggang/2acq/outputs/M28C_LHA_S1/stitching/tiles.n5/c0/c0_M28C_LHA_S1.czi_tile8',\n",
       "  'position': [76.53478260869477, 43080.88695652173, -1516.0428571428574],\n",
       "  'size': [1920, 1920, 1687],\n",
       "  'pixelResolution': [0.23, 0.23, 0.42]},\n",
       " {'type': 'GRAY16',\n",
       "  'index': 9,\n",
       "  'file': '/data/sternsonlab/Zhenggang/2acq/outputs/M28C_LHA_S1/stitching/tiles.n5/c0/c0_M28C_LHA_S1.czi_tile9',\n",
       "  'position': [1862.5347826086954, 43080.88695652173, -1516.0428571428574],\n",
       "  'size': [1920, 1920, 1687],\n",
       "  'pixelResolution': [0.23, 0.23, 0.42]},\n",
       " {'type': 'GRAY16',\n",
       "  'index': 10,\n",
       "  'file': '/data/sternsonlab/Zhenggang/2acq/outputs/M28C_LHA_S1/stitching/tiles.n5/c0/c0_M28C_LHA_S1.czi_tile10',\n",
       "  'position': [3648.5347826086954, 43080.88695652173, -1516.0428571428574],\n",
       "  'size': [1920, 1920, 1687],\n",
       "  'pixelResolution': [0.23, 0.23, 0.42]},\n",
       " {'type': 'GRAY16',\n",
       "  'index': 11,\n",
       "  'file': '/data/sternsonlab/Zhenggang/2acq/outputs/M28C_LHA_S1/stitching/tiles.n5/c0/c0_M28C_LHA_S1.czi_tile11',\n",
       "  'position': [5434.534782608695, 43080.88695652173, -1516.0428571428574],\n",
       "  'size': [1920, 1920, 1687],\n",
       "  'pixelResolution': [0.23, 0.23, 0.42]},\n",
       " {'type': 'GRAY16',\n",
       "  'index': 12,\n",
       "  'file': '/data/sternsonlab/Zhenggang/2acq/outputs/M28C_LHA_S1/stitching/tiles.n5/c0/c0_M28C_LHA_S1.czi_tile12',\n",
       "  'position': [5434.534782608695, 44866.88695652174, -1516.0428571428574],\n",
       "  'size': [1920, 1920, 1687],\n",
       "  'pixelResolution': [0.23, 0.23, 0.42]},\n",
       " {'type': 'GRAY16',\n",
       "  'index': 13,\n",
       "  'file': '/data/sternsonlab/Zhenggang/2acq/outputs/M28C_LHA_S1/stitching/tiles.n5/c0/c0_M28C_LHA_S1.czi_tile13',\n",
       "  'position': [3648.5347826086954, 44866.88695652174, -1516.0428571428574],\n",
       "  'size': [1920, 1920, 1687],\n",
       "  'pixelResolution': [0.23, 0.23, 0.42]},\n",
       " {'type': 'GRAY16',\n",
       "  'index': 14,\n",
       "  'file': '/data/sternsonlab/Zhenggang/2acq/outputs/M28C_LHA_S1/stitching/tiles.n5/c0/c0_M28C_LHA_S1.czi_tile14',\n",
       "  'position': [1862.5347826086954, 44866.88695652174, -1516.0428571428574],\n",
       "  'size': [1920, 1920, 1687],\n",
       "  'pixelResolution': [0.23, 0.23, 0.42]},\n",
       " {'type': 'GRAY16',\n",
       "  'index': 15,\n",
       "  'file': '/data/sternsonlab/Zhenggang/2acq/outputs/M28C_LHA_S1/stitching/tiles.n5/c0/c0_M28C_LHA_S1.czi_tile15',\n",
       "  'position': [76.53478260869477, 44866.88695652174, -1516.0428571428574],\n",
       "  'size': [1920, 1920, 1687],\n",
       "  'pixelResolution': [0.23, 0.23, 0.42]},\n",
       " {'type': 'GRAY16',\n",
       "  'index': 16,\n",
       "  'file': '/data/sternsonlab/Zhenggang/2acq/outputs/M28C_LHA_S1/stitching/tiles.n5/c0/c0_M28C_LHA_S1.czi_tile16',\n",
       "  'position': [76.53478260869477, 46652.88695652174, -1516.0428571428574],\n",
       "  'size': [1920, 1920, 1687],\n",
       "  'pixelResolution': [0.23, 0.23, 0.42]},\n",
       " {'type': 'GRAY16',\n",
       "  'index': 17,\n",
       "  'file': '/data/sternsonlab/Zhenggang/2acq/outputs/M28C_LHA_S1/stitching/tiles.n5/c0/c0_M28C_LHA_S1.czi_tile17',\n",
       "  'position': [1862.5347826086954, 46652.88695652174, -1516.0428571428574],\n",
       "  'size': [1920, 1920, 1687],\n",
       "  'pixelResolution': [0.23, 0.23, 0.42]},\n",
       " {'type': 'GRAY16',\n",
       "  'index': 18,\n",
       "  'file': '/data/sternsonlab/Zhenggang/2acq/outputs/M28C_LHA_S1/stitching/tiles.n5/c0/c0_M28C_LHA_S1.czi_tile18',\n",
       "  'position': [3648.5347826086954, 46652.88695652174, -1516.0428571428574],\n",
       "  'size': [1920, 1920, 1687],\n",
       "  'pixelResolution': [0.23, 0.23, 0.42]},\n",
       " {'type': 'GRAY16',\n",
       "  'index': 19,\n",
       "  'file': '/data/sternsonlab/Zhenggang/2acq/outputs/M28C_LHA_S1/stitching/tiles.n5/c0/c0_M28C_LHA_S1.czi_tile19',\n",
       "  'position': [5434.534782608695, 46652.88695652174, -1516.0428571428574],\n",
       "  'size': [1920, 1920, 1687],\n",
       "  'pixelResolution': [0.23, 0.23, 0.42]}]"
      ]
     },
     "execution_count": 12,
     "metadata": {},
     "output_type": "execute_result"
    }
   ],
   "source": [
    "data"
   ]
  },
  {
   "cell_type": "code",
   "execution_count": 14,
   "metadata": {},
   "outputs": [
    {
     "data": {
      "text/plain": [
       "'/Volumes/data/sternsonlab/Zhenggang/2acq/outputs/M28C_LHA_S1/stitching'"
      ]
     },
     "execution_count": 14,
     "metadata": {},
     "output_type": "execute_result"
    }
   ],
   "source": [
    "os.path.dirname(json_path)"
   ]
  },
  {
   "cell_type": "code",
   "execution_count": 16,
   "metadata": {},
   "outputs": [
    {
     "name": "stdout",
     "output_type": "stream",
     "text": [
      "/data/sternsonlab/Zhenggang/2acq/outputs/M28C_LHA_S1/stitching/tiles.n5/c0/c0_M28C_LHA_S1.czi_tile0\n",
      "c0_M28C_LHA_S1.czi_tile0\n"
     ]
    }
   ],
   "source": [
    "file0 = data[0]['file']\n",
    "print(file0)\n",
    "print(os.path.basename(file0))"
   ]
  },
  {
   "cell_type": "code",
   "execution_count": 17,
   "metadata": {},
   "outputs": [
    {
     "name": "stdout",
     "output_type": "stream",
     "text": [
      "c0\n"
     ]
    }
   ],
   "source": [
    "parent_folder = os.path.basename(os.path.dirname(file0))\n",
    "print(parent_folder)"
   ]
  }
 ],
 "metadata": {
  "kernelspec": {
   "display_name": "base",
   "language": "python",
   "name": "python3"
  },
  "language_info": {
   "codemirror_mode": {
    "name": "ipython",
    "version": 3
   },
   "file_extension": ".py",
   "mimetype": "text/x-python",
   "name": "python",
   "nbconvert_exporter": "python",
   "pygments_lexer": "ipython3",
   "version": "3.10.8"
  }
 },
 "nbformat": 4,
 "nbformat_minor": 2
}
